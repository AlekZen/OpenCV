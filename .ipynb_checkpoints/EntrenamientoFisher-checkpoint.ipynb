{
 "cells": [
  {
   "cell_type": "code",
   "execution_count": 1,
   "id": "e403f077",
   "metadata": {},
   "outputs": [],
   "source": [
    "%config IPCompleter.greedy=True"
   ]
  },
  {
   "cell_type": "code",
   "execution_count": 2,
   "id": "0569bf84",
   "metadata": {},
   "outputs": [],
   "source": [
    "import cv2\n",
    "import os\n",
    "import numpy as np\n"
   ]
  },
  {
   "cell_type": "code",
   "execution_count": 3,
   "id": "fcffa5ae",
   "metadata": {},
   "outputs": [
    {
     "name": "stdout",
     "output_type": "stream",
     "text": [
      "Lista de personas:  ['Alek', 'Kintaro', 'Sidd']\n"
     ]
    }
   ],
   "source": [
    "dataPath = 'datos'\n",
    "listaPersonas= os.listdir(dataPath)\n",
    "print ('Lista de personas: ', listaPersonas)"
   ]
  },
  {
   "cell_type": "code",
   "execution_count": 4,
   "id": "0dfde259",
   "metadata": {},
   "outputs": [],
   "source": [
    "labels =[]\n",
    "facesData =[]\n",
    "label = 0\n"
   ]
  },
  {
   "cell_type": "code",
   "execution_count": 5,
   "id": "2a15a20c",
   "metadata": {},
   "outputs": [
    {
     "name": "stdout",
     "output_type": "stream",
     "text": [
      "Leyendo imagenes\n",
      "Leyendo imagenes\n",
      "Leyendo imagenes\n",
      "Numero de 0s:  300\n",
      "Numero de 1s:  300\n",
      "Numero de 2s:  300\n"
     ]
    }
   ],
   "source": [
    "for nameDir in listaPersonas:\n",
    "    personPath = dataPath + '/' + nameDir\n",
    "    print('Leyendo imagenes')\n",
    "    \n",
    "    for fileName in os.listdir(personPath):\n",
    "        #print('Rostros: ', nameDir + '/' + fileName)\n",
    "        labels.append(label)\n",
    "        facesData.append(cv2.imread(personPath+'/'+fileName,0))\n",
    "        image = cv2.imread(personPath+'/'+fileName,0)\n",
    "        cv2.imshow('image', image)\n",
    "        cv2.waitKey(10)\n",
    "    label=label+1\n",
    "\n",
    "#print('Etiquetas= ', labels)\n",
    "print('Numero de 0s: ' , np.count_nonzero(np.array(labels)==0))\n",
    "print('Numero de 1s: ' , np.count_nonzero(np.array(labels)==1))\n",
    "print('Numero de 2s: ' , np.count_nonzero(np.array(labels)==2))\n",
    "\n",
    "\n",
    "\n",
    "cv2.destroyAllWindows()\n",
    "        \n",
    "        "
   ]
  },
  {
   "cell_type": "code",
   "execution_count": null,
   "id": "6051d3ea",
   "metadata": {},
   "outputs": [
    {
     "name": "stdout",
     "output_type": "stream",
     "text": [
      "Entrenando...\n"
     ]
    }
   ],
   "source": [
    "face_recognizer= cv2.face.FisherFaceRecognizer_create()\n",
    "print('Entrenando...')\n",
    "face_recognizer.train(facesData, np.array(labels))"
   ]
  },
  {
   "cell_type": "code",
   "execution_count": null,
   "id": "90a0fb1e",
   "metadata": {},
   "outputs": [],
   "source": [
    "face_recognizer.write('modeloFisher.xml')"
   ]
  },
  {
   "cell_type": "code",
   "execution_count": null,
   "id": "fad93c86",
   "metadata": {},
   "outputs": [],
   "source": [
    "print('Modelo entrenado')"
   ]
  }
 ],
 "metadata": {
  "kernelspec": {
   "display_name": "Python 3",
   "language": "python",
   "name": "python3"
  },
  "language_info": {
   "codemirror_mode": {
    "name": "ipython",
    "version": 3
   },
   "file_extension": ".py",
   "mimetype": "text/x-python",
   "name": "python",
   "nbconvert_exporter": "python",
   "pygments_lexer": "ipython3",
   "version": "3.9.5"
  }
 },
 "nbformat": 4,
 "nbformat_minor": 5
}
